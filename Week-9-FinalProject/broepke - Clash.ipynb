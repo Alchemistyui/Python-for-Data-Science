{
 "cells": [
  {
   "cell_type": "code",
   "execution_count": 14,
   "metadata": {},
   "outputs": [],
   "source": [
    "import numpy as np\n",
    "import pandas as pd\n",
    "import seaborn as sns\n",
    "import matplotlib.pyplot as plt\n",
    "%matplotlib inline"
   ]
  },
  {
   "cell_type": "code",
   "execution_count": 15,
   "metadata": {},
   "outputs": [],
   "source": [
    "matches = [\n",
    "{'players': {'right': {'deck': [['Mega Minion', '9'], ['Electro Wizard', '3'], ['Arrows', '11'], ['Lightning', '5'], ['Tombstone', '9'], ['The Log', '2'], ['Giant', '9'], ['Bowler', '5']], 'trophy': '4258', 'clan': 'TwoFiveOne', 'name': 'gpa raid'}, 'left': {'deck': [['Fireball', '9'], ['Archers', '12'], ['Goblins', '12'], ['Minions', '11'], ['Bomber', '12'], ['The Log', '2'], ['Barbarians', '12'], ['Royal Giant', '13']], 'trophy': '4325', 'clan': 'battusai', 'name': 'Supr4'}}, 'type': 'ladder', 'result': ['2', '0'], 'time': '2017-07-12'},\n",
    "{'players': {'right': {'deck': [['Ice Spirit', '10'], ['Valkyrie', '9'], ['Hog Rider', '9'], ['Inferno Tower', '9'], ['Goblins', '12'], ['Musketeer', '9'], ['Zap', '12'], ['Fireball', '9']], 'trophy': '4237', 'clan': 'The Wolves', 'name': 'TITAN'}, 'left': {'deck': [['Royal Giant', '13'], ['Ice Wizard', '2'], ['Bomber', '12'], ['Knight', '12'], ['Fireball', '9'], ['Barbarians', '12'], ['The Log', '2'], ['Archers', '12']], 'trophy': '4296', 'clan': 'battusai', 'name': 'Supr4'}}, 'type': 'ladder', 'result': ['1', '0'], 'time': '2017-07-12'},\n",
    "{'players': {'right': {'deck': [['Miner', '3'], ['Ice Golem', '9'], ['Spear Goblins', '12'], ['Minion Horde', '12'], ['Inferno Tower', '8'], ['The Log', '2'], ['Skeleton Army', '6'], ['Fireball', '10']], 'trophy': '4300', 'clan': '@LA PERLA NEGRA', 'name': 'Victor'}, 'left': {'deck': [['Royal Giant', '13'], ['Ice Wizard', '2'], ['Bomber', '12'], ['Knight', '12'], ['Fireball', '9'], ['Barbarians', '12'], ['The Log', '2'], ['Archers', '12']], 'trophy': '4267', 'clan': 'battusai', 'name': 'Supr4'}}, 'type': 'ladder', 'result': ['0', '1'], 'time': '2017-07-12'}\n",
    "]"
   ]
  },
  {
   "cell_type": "code",
   "execution_count": 16,
   "metadata": {},
   "outputs": [
    {
     "name": "stdout",
     "output_type": "stream",
     "text": [
      "[{'players': {'right': {'deck': [['Mega Minion', '9'], ['Electro Wizard', '3'], ['Arrows', '11'], ['Lightning', '5'], ['Tombstone', '9'], ['The Log', '2'], ['Giant', '9'], ['Bowler', '5']], 'trophy': '4258', 'clan': 'TwoFiveOne', 'name': 'gpa raid'}, 'left': {'deck': [['Fireball', '9'], ['Archers', '12'], ['Goblins', '12'], ['Minions', '11'], ['Bomber', '12'], ['The Log', '2'], ['Barbarians', '12'], ['Royal Giant', '13']], 'trophy': '4325', 'clan': 'battusai', 'name': 'Supr4'}}, 'type': 'ladder', 'result': ['2', '0'], 'time': '2017-07-12'}, {'players': {'right': {'deck': [['Ice Spirit', '10'], ['Valkyrie', '9'], ['Hog Rider', '9'], ['Inferno Tower', '9'], ['Goblins', '12'], ['Musketeer', '9'], ['Zap', '12'], ['Fireball', '9']], 'trophy': '4237', 'clan': 'The Wolves', 'name': 'TITAN'}, 'left': {'deck': [['Royal Giant', '13'], ['Ice Wizard', '2'], ['Bomber', '12'], ['Knight', '12'], ['Fireball', '9'], ['Barbarians', '12'], ['The Log', '2'], ['Archers', '12']], 'trophy': '4296', 'clan': 'battusai', 'name': 'Supr4'}}, 'type': 'ladder', 'result': ['1', '0'], 'time': '2017-07-12'}, {'players': {'right': {'deck': [['Miner', '3'], ['Ice Golem', '9'], ['Spear Goblins', '12'], ['Minion Horde', '12'], ['Inferno Tower', '8'], ['The Log', '2'], ['Skeleton Army', '6'], ['Fireball', '10']], 'trophy': '4300', 'clan': '@LA PERLA NEGRA', 'name': 'Victor'}, 'left': {'deck': [['Royal Giant', '13'], ['Ice Wizard', '2'], ['Bomber', '12'], ['Knight', '12'], ['Fireball', '9'], ['Barbarians', '12'], ['The Log', '2'], ['Archers', '12']], 'trophy': '4267', 'clan': 'battusai', 'name': 'Supr4'}}, 'type': 'ladder', 'result': ['0', '1'], 'time': '2017-07-12'}]\n"
     ]
    }
   ],
   "source": [
    "print(matches)"
   ]
  },
  {
   "cell_type": "code",
   "execution_count": 17,
   "metadata": {},
   "outputs": [],
   "source": [
    "df = pd.DataFrame(matches)"
   ]
  },
  {
   "cell_type": "code",
   "execution_count": 18,
   "metadata": {},
   "outputs": [],
   "source": [
    "sides = ['right', 'left']\n",
    "player_keys = ['deck', 'trophy', 'clan', 'name']\n",
    "\n",
    "for side in sides:\n",
    "    for key in player_keys:\n",
    "        for i, row in df.iterrows():\n",
    "            df[side + '_' + key] = df['players'].apply(lambda x: x[side][key])\n",
    "\n",
    "df = df.drop('players', axis=1) # no longer need this after populating the other columns\n",
    "\n",
    "df = df.iloc[:, ::-1] # made sense to display columns in order of player info from left to right,\n",
    "                      # followed by general match info at the far right of the dataframe\n"
   ]
  },
  {
   "cell_type": "code",
   "execution_count": 19,
   "metadata": {},
   "outputs": [
    {
     "name": "stdout",
     "output_type": "stream",
     "text": [
      "  left_name left_clan left_trophy  \\\n",
      "0     Supr4  battusai        4325   \n",
      "1     Supr4  battusai        4296   \n",
      "2     Supr4  battusai        4267   \n",
      "\n",
      "                                           left_deck right_name  \\\n",
      "0  [[Fireball, 9], [Archers, 12], [Goblins, 12], ...   gpa raid   \n",
      "1  [[Royal Giant, 13], [Ice Wizard, 2], [Bomber, ...      TITAN   \n",
      "2  [[Royal Giant, 13], [Ice Wizard, 2], [Bomber, ...     Victor   \n",
      "\n",
      "        right_clan right_trophy  \\\n",
      "0       TwoFiveOne         4258   \n",
      "1       The Wolves         4237   \n",
      "2  @LA PERLA NEGRA         4300   \n",
      "\n",
      "                                          right_deck    type        time  \\\n",
      "0  [[Mega Minion, 9], [Electro Wizard, 3], [Arrow...  ladder  2017-07-12   \n",
      "1  [[Ice Spirit, 10], [Valkyrie, 9], [Hog Rider, ...  ladder  2017-07-12   \n",
      "2  [[Miner, 3], [Ice Golem, 9], [Spear Goblins, 1...  ladder  2017-07-12   \n",
      "\n",
      "   result  \n",
      "0  [2, 0]  \n",
      "1  [1, 0]  \n",
      "2  [0, 1]  \n"
     ]
    }
   ],
   "source": [
    "print(df)"
   ]
  },
  {
   "cell_type": "code",
   "execution_count": 20,
   "metadata": {},
   "outputs": [],
   "source": [
    "dicts_from_file = []\n",
    "with open('../../datasets/clash/matches.txt','r') as inf:\n",
    "    for line in inf:\n",
    "        try:\n",
    "            dicts_from_file.append(eval(line))\n",
    "        except:\n",
    "            pass"
   ]
  },
  {
   "cell_type": "code",
   "execution_count": 21,
   "metadata": {},
   "outputs": [],
   "source": [
    "df = pd.DataFrame(dicts_from_file)"
   ]
  },
  {
   "cell_type": "code",
   "execution_count": 22,
   "metadata": {},
   "outputs": [
    {
     "data": {
      "text/plain": [
       "0         {'right': {'deck': [['Mega Minion', '9'], ['El...\n",
       "1         {'right': {'deck': [['Ice Spirit', '10'], ['Va...\n",
       "2         {'right': {'deck': [['Miner', '3'], ['Ice Gole...\n",
       "3         {'right': {'deck': [['Golem', '6'], ['Zap', '1...\n",
       "4         {'right': {'deck': [['Baby Dragon', '6'], ['Ic...\n",
       "5         {'right': {'deck': [['Hog Rider', '11'], ['Meg...\n",
       "6         {'right': {'deck': [['Goblin Gang', '13'], ['I...\n",
       "7         {'right': {'deck': [['Zap', '13'], ['Hog Rider...\n",
       "8         {'right': {'deck': [['Golem', '7'], ['Baby Dra...\n",
       "9         {'right': {'deck': [['Skeleton Army', '7'], ['...\n",
       "10        {'right': {'deck': [['Spear Goblins', '12'], [...\n",
       "11        {'right': {'deck': [['Elixir Collector', '9'],...\n",
       "12        {'right': {'deck': [['Hog Rider', '9'], ['Knig...\n",
       "13        {'right': {'deck': [['Hog Rider', '11'], ['Tor...\n",
       "14        {'right': {'deck': [['P.E.K.K.A', '4'], ['Nigh...\n",
       "15        {'right': {'deck': [['Minion Horde', '9'], ['G...\n",
       "16        {'right': {'deck': [['Bandit', '1'], ['Baby Dr...\n",
       "17        {'right': {'deck': [['Bandit', '1'], ['Ice Spi...\n",
       "18        {'right': {'deck': [['P.E.K.K.A', '4'], ['Heal...\n",
       "19        {'right': {'deck': [['Hog Rider', '7'], ['Prin...\n",
       "20        {'right': {'deck': [['Lightning', '4'], ['Ice ...\n",
       "21        {'right': {'deck': [['Baby Dragon', '4'], ['Go...\n",
       "22        {'right': {'deck': [['Royal Giant', '9'], ['Mi...\n",
       "23        {'right': {'deck': [['Golem', '6'], ['Rocket',...\n",
       "24        {'right': {'deck': [['Miner', '3'], ['The Log'...\n",
       "25        {'right': {'deck': [['Zap', '13'], ['Knight', ...\n",
       "26        {'right': {'deck': [['Ice Wizard', '4'], ['Min...\n",
       "27        {'right': {'deck': [['The Log', '3'], ['Night ...\n",
       "28        {'right': {'deck': [['Zap', '12'], ['Knight', ...\n",
       "29        {'right': {'deck': [['Ice Spirit', '12'], ['Mi...\n",
       "                                ...                        \n",
       "723687    {'left': {'trophy': '4992', 'name': 'vito', 'd...\n",
       "723688    {'left': {'trophy': '5024', 'name': 'vito', 'd...\n",
       "723689    {'left': {'trophy': '5057', 'name': 'vito', 'd...\n",
       "723690    {'left': {'trophy': '5087', 'name': 'vito', 'd...\n",
       "723691    {'left': {'trophy': '5087', 'name': 'vito', 'd...\n",
       "723692    {'left': {'trophy': '4828', 'name': 'drgam', '...\n",
       "723693    {'left': {'trophy': '4861', 'name': 'drgam', '...\n",
       "723694    {'left': {'trophy': '4831', 'name': 'drgam', '...\n",
       "723695    {'left': {'trophy': '4804', 'name': 'drgam', '...\n",
       "723696    {'left': {'trophy': '4836', 'name': 'drgam', '...\n",
       "723697    {'left': {'trophy': '4865', 'name': 'drgam', '...\n",
       "723698    {'left': {'trophy': '4833', 'name': 'drgam', '...\n",
       "723699    {'left': {'trophy': '4802', 'name': 'drgam', '...\n",
       "723700    {'left': {'trophy': '4831', 'name': 'drgam', '...\n",
       "723701    {'left': {'trophy': '4863', 'name': 'drgam', '...\n",
       "723702    {'left': {'trophy': '4832', 'name': 'drgam', '...\n",
       "723703    {'left': {'trophy': '4859', 'name': 'drgam', '...\n",
       "723704    {'left': {'trophy': '4859', 'name': 'drgam', '...\n",
       "723705    {'left': {'trophy': '4891', 'name': 'drgam', '...\n",
       "723706    {'left': {'trophy': '4863', 'name': 'drgam', '...\n",
       "723707    {'left': {'trophy': '4836', 'name': 'drgam', '...\n",
       "723708    {'left': {'trophy': '4867', 'name': 'drgam', '...\n",
       "723709    {'left': {'trophy': '4839', 'name': 'drgam', '...\n",
       "723710    {'left': {'trophy': '4809', 'name': 'drgam', '...\n",
       "723711    {'left': {'trophy': '4777', 'name': 'drgam', '...\n",
       "723712    {'left': {'trophy': '4806', 'name': 'drgam', '...\n",
       "723713    {'left': {'trophy': '4833', 'name': 'drgam', '...\n",
       "723714    {'left': {'trophy': '4833', 'name': 'drgam', '...\n",
       "723715    {'left': {'trophy': '4802', 'name': 'drgam', '...\n",
       "723716    {'left': {'trophy': '4775', 'name': 'drgam', '...\n",
       "Name: players, Length: 723717, dtype: object"
      ]
     },
     "execution_count": 22,
     "metadata": {},
     "output_type": "execute_result"
    }
   ],
   "source": [
    "df['players']"
   ]
  },
  {
   "cell_type": "code",
   "execution_count": null,
   "metadata": {},
   "outputs": [],
   "source": [
    "sides = ['right', 'left']\n",
    "player_keys = ['deck', 'trophy', 'clan', 'name']\n",
    "\n",
    "for side in sides:\n",
    "    for key in player_keys:\n",
    "        for i, row in df.iterrows():\n",
    "            df[side + '_' + key] = df['players'].apply(lambda x: x[side][key])\n",
    "\n",
    "df = df.drop('players', axis=1) # no longer need this after populating the other columns\n",
    "\n",
    "df = df.iloc[:, ::-1] # made sense to display columns in order of player info from left to right,\n",
    "                      # followed by general match info at the far right of the dataframe\n",
    "\n"
   ]
  },
  {
   "cell_type": "code",
   "execution_count": null,
   "metadata": {},
   "outputs": [],
   "source": [
    "df.head()"
   ]
  },
  {
   "cell_type": "code",
   "execution_count": null,
   "metadata": {},
   "outputs": [],
   "source": []
  }
 ],
 "metadata": {
  "kernelspec": {
   "display_name": "Python 3",
   "language": "python",
   "name": "python3"
  },
  "language_info": {
   "codemirror_mode": {
    "name": "ipython",
    "version": 3
   },
   "file_extension": ".py",
   "mimetype": "text/x-python",
   "name": "python",
   "nbconvert_exporter": "python",
   "pygments_lexer": "ipython3",
   "version": "3.7.1"
  }
 },
 "nbformat": 4,
 "nbformat_minor": 2
}
