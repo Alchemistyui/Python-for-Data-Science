{
 "cells": [
  {
   "cell_type": "code",
   "execution_count": 1,
   "metadata": {},
   "outputs": [
    {
     "ename": "ModuleNotFoundError",
     "evalue": "No module named 'bokeh.charts'",
     "output_type": "error",
     "traceback": [
      "\u001b[0;31m---------------------------------------------------------------------------\u001b[0m",
      "\u001b[0;31mModuleNotFoundError\u001b[0m                       Traceback (most recent call last)",
      "\u001b[0;32m<ipython-input-1-655ac26587aa>\u001b[0m in \u001b[0;36m<module>\u001b[0;34m\u001b[0m\n\u001b[1;32m     10\u001b[0m \u001b[0;32mfrom\u001b[0m \u001b[0mbokeh\u001b[0m\u001b[0;34m.\u001b[0m\u001b[0mlayouts\u001b[0m \u001b[0;32mimport\u001b[0m \u001b[0mlayout\u001b[0m\u001b[0;34m,\u001b[0m \u001b[0mwidgetbox\u001b[0m\u001b[0;34m,\u001b[0m \u001b[0mrow\u001b[0m\u001b[0;34m,\u001b[0m \u001b[0mcolumn\u001b[0m\u001b[0;34m\u001b[0m\u001b[0;34m\u001b[0m\u001b[0m\n\u001b[1;32m     11\u001b[0m \u001b[0;32mfrom\u001b[0m \u001b[0mbokeh\u001b[0m\u001b[0;34m.\u001b[0m\u001b[0mmodels\u001b[0m\u001b[0;34m.\u001b[0m\u001b[0mwidgets\u001b[0m \u001b[0;32mimport\u001b[0m \u001b[0mButton\u001b[0m\u001b[0;34m,\u001b[0m \u001b[0mRadioButtonGroup\u001b[0m\u001b[0;34m,\u001b[0m \u001b[0mSelect\u001b[0m\u001b[0;34m,\u001b[0m \u001b[0mSlider\u001b[0m\u001b[0;34m,\u001b[0m \u001b[0mRangeSlider\u001b[0m\u001b[0;34m,\u001b[0m \u001b[0mTextInput\u001b[0m\u001b[0;34m,\u001b[0m \u001b[0mTabs\u001b[0m\u001b[0;34m,\u001b[0m \u001b[0mPanel\u001b[0m\u001b[0;34m\u001b[0m\u001b[0;34m\u001b[0m\u001b[0m\n\u001b[0;32m---> 12\u001b[0;31m \u001b[0;32mfrom\u001b[0m \u001b[0mbokeh\u001b[0m\u001b[0;34m.\u001b[0m\u001b[0mcharts\u001b[0m \u001b[0;32mimport\u001b[0m \u001b[0mHistogram\u001b[0m\u001b[0;34m\u001b[0m\u001b[0;34m\u001b[0m\u001b[0m\n\u001b[0m\u001b[1;32m     13\u001b[0m \u001b[0;32mimport\u001b[0m \u001b[0mmatplotlib\u001b[0m\u001b[0;34m.\u001b[0m\u001b[0mpyplot\u001b[0m \u001b[0;32mas\u001b[0m \u001b[0mplt\u001b[0m\u001b[0;34m\u001b[0m\u001b[0;34m\u001b[0m\u001b[0m\n",
      "\u001b[0;31mModuleNotFoundError\u001b[0m: No module named 'bokeh.charts'"
     ]
    }
   ],
   "source": [
    "import bokeh\n",
    "import pandas as pd\n",
    "import numpy as np\n",
    "from os.path import dirname, join\n",
    "from bokeh.io import output_file, show, curdoc\n",
    "from bokeh.layouts import gridplot\n",
    "from bokeh.palettes import Viridis3\n",
    "from bokeh.plotting import figure\n",
    "from bokeh.models import CustomJS, Slider, ColumnDataSource, WidgetBox, Div, BoxSelectTool, BoxZoomTool, LassoSelectTool, Spacer\n",
    "from bokeh.layouts import layout, widgetbox, row, column\n",
    "from bokeh.models.widgets import Button, RadioButtonGroup, Select, Slider, RangeSlider, TextInput, Tabs, Panel\n",
    "from bokeh.charts import Histogram\n",
    "import matplotlib.pyplot as plt"
   ]
  },
  {
   "cell_type": "code",
   "execution_count": null,
   "metadata": {},
   "outputs": [],
   "source": [
    "data = pd.read_csv('pdb_test_plot_data.csv')\n",
    "del data['Unnamed: 0']\n",
    "\n",
    "data = data[data['phValue']!=100]\n",
    "data['pH - pI'] = data['phValue'] - data['pI']\n",
    "\n",
    "data.loc[data['pI']>7,'Protein Acidity'] = 'Basic'\n",
    "data.loc[data['pI']<=7,'Protein Acidity'] = 'Acidic'\n",
    "\n",
    "data.loc[data['crystallizationTempK']<150, 'crystallizationTempK'] =+ 273\n",
    "data.loc[data['crystallizationTempK']==294100, 'crystallizationTempK'] = 294.1"
   ]
  },
  {
   "cell_type": "code",
   "execution_count": null,
   "metadata": {},
   "outputs": [],
   "source": [
    "data['color'] = np.where(data['Protein Acidity'] == 'Basic', 'blue', 'orange')"
   ]
  },
  {
   "cell_type": "code",
   "execution_count": null,
   "metadata": {},
   "outputs": [],
   "source": [
    "fig, ax = plt.subplots()\n",
    "ax.scatter(data[data['pI'] < 7]['pI'], data[data['pI'] < 7]['pH - pI'], alpha = 0.3, c = data[data['pI'] > 7]['color'], edgecolors = 'none', s = 5, label = 'Acidic')\n",
    "ax.scatter(data[data['pI'] >= 7]['pI'], data[data['pI'] > 7]['pH - pI'], alpha = 0.3, c = data[data['pI'] < 7]['color'], edgecolors = 'none', s = 5, label = 'Basic')\n",
    "\n",
    "\n",
    "fig.set_size_inches(10,7)\n",
    "ax.grid(True)\n",
    "\n",
    "plt.xlabel('pI')\n",
    "plt.ylabel('pH - pI')\n",
    "plt.title('Scatterplot of pH - pI vs pI of Proteins Crystallized in PDB')\n",
    "plt.legend()\n",
    "plt.show()"
   ]
  },
  {
   "cell_type": "code",
   "execution_count": null,
   "metadata": {
    "scrolled": true
   },
   "outputs": [],
   "source": [
    "data.columns"
   ]
  },
  {
   "cell_type": "code",
   "execution_count": null,
   "metadata": {},
   "outputs": [],
   "source": [
    "year_df = data.groupby(['publicationYear']).count()['structureId'].reset_index()\n",
    "year_df = year_df[year_df['publicationYear']!=2017]"
   ]
  },
  {
   "cell_type": "code",
   "execution_count": null,
   "metadata": {},
   "outputs": [],
   "source": [
    "plt.figure(figsize=(10,7))\n",
    "plt.plot(year_df['publicationYear'], year_df['structureId'])\n",
    "\n",
    "\n",
    "plt.xlabel('Proteins entered into PDB')\n",
    "plt.ylabel('Publication Year')\n",
    "plt.title('Growth of the PDB over time')\n",
    "plt.show()"
   ]
  },
  {
   "cell_type": "code",
   "execution_count": null,
   "metadata": {},
   "outputs": [],
   "source": [
    "fig, ax = plt.subplots()\n",
    "ax.scatter(data[data['pI'] < 7]['pI'], data[data['pI'] < 7]['Gravy'], alpha = 0.3, c = data[data['pI'] > 7]['color'], edgecolors = 'none', s = 5, label = 'Acidic')\n",
    "ax.scatter(data[data['pI'] >= 7]['pI'], data[data['pI'] > 7]['Gravy'], alpha = 0.3, c = data[data['pI'] < 7]['color'], edgecolors = 'none', s = 5, label = 'Basic')\n",
    "\n",
    "\n",
    "\n",
    "fig.set_size_inches(10,7)\n",
    "ax.grid(True)\n",
    "\n",
    "plt.xlabel('Isoelectric Point (pI)')\n",
    "plt.ylabel('Hydrophobicity (Gravy)')\n",
    "plt.title('Scatterplot of Hydrophobicity by Isoelectric Point')\n",
    "plt.legend()\n",
    "plt.show()"
   ]
  },
  {
   "cell_type": "code",
   "execution_count": null,
   "metadata": {},
   "outputs": [],
   "source": [
    "fig, ax = plt.subplots()\n",
    "ax.scatter(data[data['pI'] < 7]['structureMolecularWeight'], data[data['pI'] < 7]['Instability Index'], alpha = 0.3, c = data[data['pI'] > 7]['color'], edgecolors = 'none', s = 5, label = 'Acidic')\n",
    "ax.scatter(data[data['pI'] >= 7]['structureMolecularWeight'], data[data['pI'] >= 7]['Instability Index'], alpha = 0.3, c = data[data['pI'] < 7]['color'], edgecolors = 'none', s = 5, label = 'Basic')\n",
    "\n",
    "\n",
    "\n",
    "fig.set_size_inches(10,7)\n",
    "ax.grid(True)\n",
    "\n",
    "plt.xlabel('Structure Molecular Weight (Daltons)')\n",
    "plt.ylabel('Instability Index')\n",
    "plt.title('Scatterplot of Instability Index by Molecular Weight')\n",
    "plt.legend()\n",
    "plt.show()"
   ]
  },
  {
   "cell_type": "code",
   "execution_count": null,
   "metadata": {},
   "outputs": [],
   "source": []
  },
  {
   "cell_type": "code",
   "execution_count": null,
   "metadata": {},
   "outputs": [],
   "source": []
  },
  {
   "cell_type": "code",
   "execution_count": null,
   "metadata": {},
   "outputs": [],
   "source": []
  }
 ],
 "metadata": {
  "kernelspec": {
   "display_name": "Python 3",
   "language": "python",
   "name": "python3"
  },
  "language_info": {
   "codemirror_mode": {
    "name": "ipython",
    "version": 3
   },
   "file_extension": ".py",
   "mimetype": "text/x-python",
   "name": "python",
   "nbconvert_exporter": "python",
   "pygments_lexer": "ipython3",
   "version": "3.7.1"
  }
 },
 "nbformat": 4,
 "nbformat_minor": 2
}
