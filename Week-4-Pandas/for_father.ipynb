{
 "cells": [
  {
   "cell_type": "code",
   "execution_count": 49,
   "metadata": {},
   "outputs": [
    {
     "name": "stdout",
     "output_type": "stream",
     "text": [
      "  本人姓名    人事单位名称    编制单位名称    工资单位名称 岗位变动类型 涉及单位 变动时间   党政职务       任职时间  \\\n",
      "0   安燕  AE09第十小学  AE09第十小学  AE09第十小学    NaN  NaN  NaN    NaN        NaN   \n",
      "1   敖亮  AE09第十小学  AE09第十小学  AE09第十小学    NaN  NaN  NaN    NaN        NaN   \n",
      "2  边成萍  AE09第十小学  AE09第十小学  AE09第十小学    NaN  NaN  NaN  教科处主任  2013/2/20   \n",
      "3   边帆  AE09第十小学  AE09第十小学  AE09第十小学    NaN  NaN  NaN    NaN        NaN   \n",
      "4  边绍顺  AE09第十小学       NaN  AE09第十小学    NaN  NaN  NaN    NaN        NaN   \n",
      "\n",
      "       退休时间 注销类型   政治面貌名称 本次聘用等级    本次聘用单位 使用政策类型  \n",
      "0       NaN  NaN      NaN  专技十一级  AE09第十小学    NaN  \n",
      "1       NaN  NaN      NaN   专技八级  AE09第十小学    NaN  \n",
      "2       NaN  NaN  中国共产党党员   专技九级  AE09第十小学    NaN  \n",
      "3       NaN  NaN      NaN   专技八级  AE09第十小学    NaN  \n",
      "4  2015/9/1  NaN      NaN    NaN       NaN    NaN  \n"
     ]
    }
   ],
   "source": [
    "# -*- coding: utf-8 -*-\n",
    "# coding: utf-8\n",
    "import pandas as pd\n",
    "\n",
    "file = pd.read_csv('./need_cols.csv', sep = ',')\n",
    "\n",
    "print(file.head())"
   ]
  },
  {
   "cell_type": "code",
   "execution_count": 16,
   "metadata": {},
   "outputs": [
    {
     "data": {
      "text/plain": [
       "RangeIndex(start=0, stop=121, step=1)"
      ]
     },
     "execution_count": 16,
     "metadata": {},
     "output_type": "execute_result"
    }
   ],
   "source": [
    "file.index"
   ]
  },
  {
   "cell_type": "code",
   "execution_count": 29,
   "metadata": {},
   "outputs": [
    {
     "data": {
      "text/plain": [
       "pandas.core.series.Series"
      ]
     },
     "execution_count": 29,
     "metadata": {},
     "output_type": "execute_result"
    }
   ],
   "source": [
    "file.columns\n",
    "file.iloc[0]\n",
    "# file[0]\n",
    "type(file.iloc[0])"
   ]
  },
  {
   "cell_type": "code",
   "execution_count": 50,
   "metadata": {},
   "outputs": [
    {
     "data": {
      "text/html": [
       "<div>\n",
       "<style scoped>\n",
       "    .dataframe tbody tr th:only-of-type {\n",
       "        vertical-align: middle;\n",
       "    }\n",
       "\n",
       "    .dataframe tbody tr th {\n",
       "        vertical-align: top;\n",
       "    }\n",
       "\n",
       "    .dataframe thead th {\n",
       "        text-align: right;\n",
       "    }\n",
       "</style>\n",
       "<table border=\"1\" class=\"dataframe\">\n",
       "  <thead>\n",
       "    <tr style=\"text-align: right;\">\n",
       "      <th></th>\n",
       "      <th>本人姓名</th>\n",
       "      <th>人事单位名称</th>\n",
       "      <th>编制单位名称</th>\n",
       "      <th>工资单位名称</th>\n",
       "      <th>岗位变动类型</th>\n",
       "      <th>涉及单位</th>\n",
       "      <th>变动时间</th>\n",
       "      <th>党政职务</th>\n",
       "      <th>任职时间</th>\n",
       "      <th>退休时间</th>\n",
       "      <th>注销类型</th>\n",
       "      <th>政治面貌名称</th>\n",
       "      <th>本次聘用等级</th>\n",
       "      <th>本次聘用单位</th>\n",
       "      <th>使用政策类型</th>\n",
       "    </tr>\n",
       "  </thead>\n",
       "  <tbody>\n",
       "    <tr>\n",
       "      <td>0</td>\n",
       "      <td>安燕</td>\n",
       "      <td>AE09第十小学</td>\n",
       "      <td>AE09第十小学</td>\n",
       "      <td>AE09第十小学</td>\n",
       "      <td>空</td>\n",
       "      <td>空</td>\n",
       "      <td>空</td>\n",
       "      <td>空</td>\n",
       "      <td>空</td>\n",
       "      <td>空</td>\n",
       "      <td>空</td>\n",
       "      <td>空</td>\n",
       "      <td>专技十一级</td>\n",
       "      <td>AE09第十小学</td>\n",
       "      <td>空</td>\n",
       "    </tr>\n",
       "    <tr>\n",
       "      <td>1</td>\n",
       "      <td>敖亮</td>\n",
       "      <td>AE09第十小学</td>\n",
       "      <td>AE09第十小学</td>\n",
       "      <td>AE09第十小学</td>\n",
       "      <td>空</td>\n",
       "      <td>空</td>\n",
       "      <td>空</td>\n",
       "      <td>空</td>\n",
       "      <td>空</td>\n",
       "      <td>空</td>\n",
       "      <td>空</td>\n",
       "      <td>空</td>\n",
       "      <td>专技八级</td>\n",
       "      <td>AE09第十小学</td>\n",
       "      <td>空</td>\n",
       "    </tr>\n",
       "    <tr>\n",
       "      <td>2</td>\n",
       "      <td>边成萍</td>\n",
       "      <td>AE09第十小学</td>\n",
       "      <td>AE09第十小学</td>\n",
       "      <td>AE09第十小学</td>\n",
       "      <td>空</td>\n",
       "      <td>空</td>\n",
       "      <td>空</td>\n",
       "      <td>教科处主任</td>\n",
       "      <td>2013/2/20</td>\n",
       "      <td>空</td>\n",
       "      <td>空</td>\n",
       "      <td>中国共产党党员</td>\n",
       "      <td>专技九级</td>\n",
       "      <td>AE09第十小学</td>\n",
       "      <td>空</td>\n",
       "    </tr>\n",
       "    <tr>\n",
       "      <td>3</td>\n",
       "      <td>边帆</td>\n",
       "      <td>AE09第十小学</td>\n",
       "      <td>AE09第十小学</td>\n",
       "      <td>AE09第十小学</td>\n",
       "      <td>空</td>\n",
       "      <td>空</td>\n",
       "      <td>空</td>\n",
       "      <td>空</td>\n",
       "      <td>空</td>\n",
       "      <td>空</td>\n",
       "      <td>空</td>\n",
       "      <td>空</td>\n",
       "      <td>专技八级</td>\n",
       "      <td>AE09第十小学</td>\n",
       "      <td>空</td>\n",
       "    </tr>\n",
       "    <tr>\n",
       "      <td>4</td>\n",
       "      <td>边绍顺</td>\n",
       "      <td>AE09第十小学</td>\n",
       "      <td>空</td>\n",
       "      <td>AE09第十小学</td>\n",
       "      <td>空</td>\n",
       "      <td>空</td>\n",
       "      <td>空</td>\n",
       "      <td>空</td>\n",
       "      <td>空</td>\n",
       "      <td>2015/9/1</td>\n",
       "      <td>空</td>\n",
       "      <td>空</td>\n",
       "      <td>空</td>\n",
       "      <td>空</td>\n",
       "      <td>空</td>\n",
       "    </tr>\n",
       "  </tbody>\n",
       "</table>\n",
       "</div>"
      ],
      "text/plain": [
       "  本人姓名    人事单位名称    编制单位名称    工资单位名称 岗位变动类型 涉及单位 变动时间   党政职务       任职时间  \\\n",
       "0   安燕  AE09第十小学  AE09第十小学  AE09第十小学      空    空    空      空          空   \n",
       "1   敖亮  AE09第十小学  AE09第十小学  AE09第十小学      空    空    空      空          空   \n",
       "2  边成萍  AE09第十小学  AE09第十小学  AE09第十小学      空    空    空  教科处主任  2013/2/20   \n",
       "3   边帆  AE09第十小学  AE09第十小学  AE09第十小学      空    空    空      空          空   \n",
       "4  边绍顺  AE09第十小学         空  AE09第十小学      空    空    空      空          空   \n",
       "\n",
       "       退休时间 注销类型   政治面貌名称 本次聘用等级    本次聘用单位 使用政策类型  \n",
       "0         空    空        空  专技十一级  AE09第十小学      空  \n",
       "1         空    空        空   专技八级  AE09第十小学      空  \n",
       "2         空    空  中国共产党党员   专技九级  AE09第十小学      空  \n",
       "3         空    空        空   专技八级  AE09第十小学      空  \n",
       "4  2015/9/1    空        空      空         空      空  "
      ]
     },
     "execution_count": 50,
     "metadata": {},
     "output_type": "execute_result"
    }
   ],
   "source": [
    "# for i in range(121):\n",
    "#     file.icol[i]\n",
    "# import numpy as np\n",
    "# file.replace(nan, '空')\n",
    "file.fillna('空', inplace=True)\n",
    "file.head()"
   ]
  },
  {
   "cell_type": "code",
   "execution_count": 34,
   "metadata": {},
   "outputs": [
    {
     "data": {
      "text/plain": [
       "Index(['本人姓名', '人事单位名称', '编制单位名称', '工资单位名称', '岗位变动类型', '涉及单位', '变动时间', '党政职务',\n",
       "       '任职时间', '退休时间', '注销类型', '政治面貌名称', '本次聘用等级', '本次聘用单位', '使用政策类型'],\n",
       "      dtype='object')"
      ]
     },
     "execution_count": 34,
     "metadata": {},
     "output_type": "execute_result"
    }
   ],
   "source": [
    "file.iloc[0].index"
   ]
  },
  {
   "cell_type": "code",
   "execution_count": 40,
   "metadata": {},
   "outputs": [
    {
     "data": {
      "text/plain": [
       "nan"
      ]
     },
     "execution_count": 40,
     "metadata": {},
     "output_type": "execute_result"
    }
   ],
   "source": [
    "file.iloc[0][3]\n",
    "file.iloc[0].index[i]\n",
    "file.iloc[0][i]"
   ]
  },
  {
   "cell_type": "code",
   "execution_count": 69,
   "metadata": {},
   "outputs": [],
   "source": [
    "# for i in range(121):\n",
    "f = open('./'+file.iloc[-1][0]+'.txt', 'w')\n",
    "for i in range(len(file.iloc[-1].index)):\n",
    "    f.write(file.iloc[-1].index[i]+'\\t\\t'+file.iloc[-1][i])\n",
    "#     f.write(\"%-15s\" % (file.iloc[0].index[i],file.iloc[0][i]))\n",
    "    f.write('\\n')"
   ]
  },
  {
   "cell_type": "code",
   "execution_count": 66,
   "metadata": {},
   "outputs": [],
   "source": [
    "for j in range(121):\n",
    "    person = file.iloc[j]\n",
    "    f = open('./信息核对/'+person[0]+'.txt', 'w')\n",
    "    for i in range(len(person.index)):\n",
    "        \n",
    "        f.write(person.index[i]+'\\t\\t'+person[i])\n",
    "        f.write('\\n')"
   ]
  },
  {
   "cell_type": "code",
   "execution_count": 67,
   "metadata": {},
   "outputs": [
    {
     "data": {
      "text/plain": [
       "本人姓名           邹治群\n",
       "人事单位名称    AE09第十小学\n",
       "编制单位名称    AE09第十小学\n",
       "工资单位名称    AE09第十小学\n",
       "岗位变动类型           空\n",
       "涉及单位             空\n",
       "变动时间             空\n",
       "党政职务             空\n",
       "任职时间             空\n",
       "退休时间             空\n",
       "注销类型             空\n",
       "政治面貌名称     中国共产党党员\n",
       "本次聘用等级       专技十一级\n",
       "本次聘用单位    AE09第十小学\n",
       "使用政策类型           空\n",
       "Name: 120, dtype: object"
      ]
     },
     "execution_count": 67,
     "metadata": {},
     "output_type": "execute_result"
    }
   ],
   "source": [
    "file.iloc[-1]"
   ]
  },
  {
   "cell_type": "code",
   "execution_count": null,
   "metadata": {},
   "outputs": [],
   "source": []
  }
 ],
 "metadata": {
  "kernelspec": {
   "display_name": "Python 3",
   "language": "python",
   "name": "python3"
  },
  "language_info": {
   "codemirror_mode": {
    "name": "ipython",
    "version": 3
   },
   "file_extension": ".py",
   "mimetype": "text/x-python",
   "name": "python",
   "nbconvert_exporter": "python",
   "pygments_lexer": "ipython3",
   "version": "3.7.4"
  }
 },
 "nbformat": 4,
 "nbformat_minor": 2
}
