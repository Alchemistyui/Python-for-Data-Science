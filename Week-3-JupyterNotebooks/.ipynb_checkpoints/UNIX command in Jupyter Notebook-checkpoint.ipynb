{
 "cells": [
  {
   "cell_type": "markdown",
   "metadata": {},
   "source": [
    "# UNIX Commands for Data Science\n",
    "Jupyter will run the command based on your default shell(operating system)"
   ]
  },
  {
   "cell_type": "markdown",
   "metadata": {},
   "source": [
    "## Declare Filename"
   ]
  },
  {
   "cell_type": "code",
   "execution_count": 5,
   "metadata": {},
   "outputs": [
    {
     "name": "stdout",
     "output_type": "stream",
     "text": [
      "Intro Jupyter Notebook.ipynb           jupyter_memo.txt\r\n",
      "UNIX command in Jupyter Notebook.ipynb shakespeare.txt\r\n"
     ]
    }
   ],
   "source": [
    "!ls"
   ]
  },
  {
   "cell_type": "code",
   "execution_count": 6,
   "metadata": {},
   "outputs": [
    {
     "name": "stdout",
     "output_type": "stream",
     "text": [
      "./shakespeare.txt\n",
      "./shakespeare.txt\n"
     ]
    }
   ],
   "source": [
    "filename = './shakespeare.txt'\n",
    "# display the variable\n",
    "!echo $filename\n",
    "print(filename)"
   ]
  },
  {
   "cell_type": "markdown",
   "metadata": {},
   "source": [
    "## head & tail"
   ]
  },
  {
   "cell_type": "code",
   "execution_count": 10,
   "metadata": {},
   "outputs": [
    {
     "name": "stdout",
     "output_type": "stream",
     "text": [
      "This is the 100th Etext file presented by Project Gutenberg, and\n",
      "is presented in cooperation with World Library, Inc., from their\n",
      "Library of the Future and Shakespeare CDROMS.  Project Gutenberg\n",
      "\n",
      "\n",
      "PERSONAL USE ONLY, AND (2) ARE NOT DISTRIBUTED OR USED\n",
      "COMMERCIALLY.  PROHIBITED COMMERCIAL DISTRIBUTION INCLUDES BY ANY\n",
      "SERVICE THAT CHARGES FOR DOWNLOAD TIME OR FOR MEMBERSHIP.>>\n",
      "\n",
      "\n",
      "\n",
      "End of this Etext of The Complete Works of William Shakespeare\n",
      "\n",
      "\n",
      "\n"
     ]
    }
   ],
   "source": [
    "# display the first or last few lines of the file\n",
    "!head -n 3 $filename\n",
    "print('\\n')\n",
    "!tail -n 10 $filename"
   ]
  },
  {
   "cell_type": "markdown",
   "metadata": {},
   "source": [
    "## wc"
   ]
  },
  {
   "cell_type": "code",
   "execution_count": 11,
   "metadata": {},
   "outputs": [
    {
     "name": "stdout",
     "output_type": "stream",
     "text": [
      "  124505  901447 5458937 ./shakespeare.txt\n",
      "\n",
      "\n",
      "  124505 ./shakespeare.txt\n"
     ]
    }
   ],
   "source": [
    "!wc $filename\n",
    "print('\\n')\n",
    "!wc -l $filename"
   ]
  },
  {
   "cell_type": "markdown",
   "metadata": {},
   "source": [
    "## pipes and filters (cat & grep)"
   ]
  },
  {
   "cell_type": "code",
   "execution_count": 19,
   "metadata": {},
   "outputs": [
    {
     "name": "stdout",
     "output_type": "stream",
     "text": [
      "  124505\n",
      "\n",
      "\n",
      "  If the skin were parchment, and the blows you gave were ink,\n",
      "  Ham. Is not parchment made of sheepskins?\n",
      "    of the skin of an innocent lamb should be made parchment? That\n",
      "    parchment, being scribbl'd o'er, should undo a man? Some say the\n",
      "    Upon a parchment, and against this fire\n",
      "    But here's a parchment with the seal of Caesar;  \n",
      "    With inky blots and rotten parchment bonds;\n",
      "    Nor brass, nor stone, nor parchment, bears not one,\n",
      "\n",
      "\n",
      "      71\n",
      "      71\n"
     ]
    }
   ],
   "source": [
    "!cat $filename | wc -l\n",
    "print('\\n')\n",
    "!grep -i 'parchment' $filename\n",
    "# !grep -o 'liberty' $filename\n",
    "print('\\n')\n",
    "# -o = --only-matching(not the full lines, but only the word); -i = --ignore-case\n",
    "!grep -o 'liberty' $filename | wc -l\n",
    "!cat $filename | grep -o 'liberty' | wc -l"
   ]
  },
  {
   "cell_type": "markdown",
   "metadata": {},
   "source": [
    "## sed"
   ]
  },
  {
   "cell_type": "code",
   "execution_count": 22,
   "metadata": {},
   "outputs": [
    {
     "name": "stdout",
     "output_type": "stream",
     "text": [
      "  If the skin were manuscript, and the blows you gave were ink,\n",
      "  Ham. Is not manuscript made of sheepskins?\n",
      "    of the skin of an innocent lamb should be made manuscript? That\n",
      "    manuscript, being scribbl'd o'er, should undo a man? Some say the\n",
      "    Upon a manuscript, and against this fire\n",
      "    But here's a manuscript with the seal of Caesar;  \n",
      "    With inky blots and rotten manuscript bonds;\n",
      "    Nor brass, nor stone, nor manuscript, bears not one,\n"
     ]
    }
   ],
   "source": [
    "# replace all occurance of 'parchment' to 'manuscript'\n",
    "!sed -e 's/parchment/manuscript/g' $filename > temp.txt\n",
    "!grep -i 'manuscript' temp.txt"
   ]
  },
  {
   "cell_type": "markdown",
   "metadata": {},
   "source": [
    "## sort"
   ]
  },
  {
   "cell_type": "code",
   "execution_count": 25,
   "metadata": {},
   "outputs": [
    {
     "name": "stdout",
     "output_type": "stream",
     "text": [
      "This is the 100th Etext file presented by Project Gutenberg, and\n",
      "is presented in cooperation with World Library, Inc., from their\n",
      "Library of the Future and Shakespeare CDROMS.  Project Gutenberg\n",
      "often releases Etexts that are NOT placed in the Public Domain!!\n",
      "\n",
      "\n",
      "\n",
      "\n",
      "Library of the Future and Shakespeare CDROMS.  Project Gutenberg\n",
      "This is the 100th Etext file presented by Project Gutenberg, and\n",
      "is presented in cooperation with World Library, Inc., from their\n",
      "often releases Etexts that are NOT placed in the Public Domain!!\n",
      "\n",
      "\n",
      "\n",
      "This is the 100th Etext file presented by Project Gutenberg, and\n",
      "Library of the Future and Shakespeare CDROMS.  Project Gutenberg\n",
      "is presented in cooperation with World Library, Inc., from their\n",
      "often releases Etexts that are NOT placed in the Public Domain!!\n"
     ]
    }
   ],
   "source": [
    "!head -n 5 $filename \n",
    "print('\\n')\n",
    "# sort with ascending charactor order(ASCII number)\n",
    "!head -n 5 $filename | sort\n",
    "print('\\n')\n",
    "# sort on the second set of words\n",
    "# columns separated by ' ', sort on column 2(-k2), case insensitive(-f)\n",
    "!head -n 5 $filename | sort -f -t ' ' -k2"
   ]
  },
  {
   "cell_type": "code",
   "execution_count": 27,
   "metadata": {},
   "outputs": [
    {
     "name": "stdout",
     "output_type": "stream",
     "text": [
      "  124505\n",
      "\n",
      "\n",
      "  110834\n"
     ]
    }
   ],
   "source": [
    "# sort and find number of unique lines\n",
    "!sort $filename | wc -l\n",
    "print('\\n')\n",
    "# -u option: getting uniq records\n",
    "!sort $filename | uniq -u | wc -l"
   ]
  },
  {
   "cell_type": "markdown",
   "metadata": {},
   "source": [
    "# Count most fequent words using UNIX command"
   ]
  },
  {
   "cell_type": "code",
   "execution_count": 29,
   "metadata": {},
   "outputs": [
    {
     "name": "stdout",
     "output_type": "stream",
     "text": [
      "sort: Broken pipe\r\n"
     ]
    }
   ],
   "source": [
    "!sed -e 's/ /\\'$'\\n/g' $filename | sort | uniq -c | sort -nr | head -15 > count_vs_word.txt\n",
    "# sort send errors since head stops after 15 lines"
   ]
  },
  {
   "cell_type": "code",
   "execution_count": 30,
   "metadata": {},
   "outputs": [
    {
     "name": "stdout",
     "output_type": "stream",
     "text": [
      "517068 \r\n",
      "23244 the\r\n",
      "19542 I\r\n",
      "18302 and\r\n",
      "15623 to\r\n",
      "15551 of\r\n",
      "12532 a\r\n",
      "10824 my\r\n",
      "9576 in\r\n",
      "9081 you\r\n",
      "7851 is\r\n",
      "7531 that\r\n",
      "7068 And\r\n",
      "6948 not\r\n",
      "6722 with\r\n"
     ]
    }
   ],
   "source": [
    "!cat count_vs_word.txt"
   ]
  },
  {
   "cell_type": "markdown",
   "metadata": {},
   "source": [
    "# Plot word count in Python"
   ]
  },
  {
   "cell_type": "markdown",
   "metadata": {},
   "source": [
    "learn later...(week 5)"
   ]
  },
  {
   "cell_type": "code",
   "execution_count": null,
   "metadata": {},
   "outputs": [],
   "source": []
  }
 ],
 "metadata": {
  "kernelspec": {
   "display_name": "Python 3",
   "language": "python",
   "name": "python3"
  },
  "language_info": {
   "codemirror_mode": {
    "name": "ipython",
    "version": 3
   },
   "file_extension": ".py",
   "mimetype": "text/x-python",
   "name": "python",
   "nbconvert_exporter": "python",
   "pygments_lexer": "ipython3",
   "version": "3.7.4"
  }
 },
 "nbformat": 4,
 "nbformat_minor": 2
}
